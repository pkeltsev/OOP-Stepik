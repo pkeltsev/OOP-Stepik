{
 "cells": [
  {
   "cell_type": "code",
   "execution_count": null,
   "metadata": {},
   "outputs": [],
   "source": [
    "Создайте класс Point. У этого класса должны быть\n",
    "\n",
    "1) метод set_coordinates, который принимает координаты по x и по y, и сохраняет их в экземпляр класса соответственно в атрибуты x и y \n",
    "2) метод get_distance, который обязательно принимает экземпляр класса Point и возвращает расстояние между двумя точками по теореме Пифагора. В случае, если в данный метод передается не экземпляр класса Point необходимо вывести сообщение \"Передана не точка\"\n",
    "3) Пример работы с классом Point\n",
  
    "p1 = Point()\n",
    "p2 = Point()\n",
    "p1.set_coordinates(1, 2)\n",
    "p2.set_coordinates(4, 6)\n",
    "d = p1.get_distance(p2) # вернёт 5.0\n",
    "p1.get_distance(10) # Распечатает \"Передана не точка\""
   ]
  },
  {
   "cell_type": "code",
   "execution_count": 1,
   "metadata": {},
   "outputs": [],
   "source": [
    "class Point():\n",
    "    def set_coordinates(self, x, y):\n",
    "        self.x = x\n",
    "        self.y = y\n",
    "    def get_distance(self, point):\n",
    "        if isinstance(point, Point):\n",
    "            return ((point.x-self.x)**2+(point.y-self.y)**2)**0.5\n",
    "        print(\"Передана не точка\")\n"
   ]
  },
  {
   "cell_type": "code",
   "execution_count": 2,
   "metadata": {},
   "outputs": [
    {
     "name": "stdout",
     "output_type": "stream",
     "text": [
      "Передана не точка\n"
     ]
    }
   ],
   "source": [
    "p1 = Point()\n",
    "p2 = Point()\n",
    "p1.set_coordinates(1, 2)\n",
    "p2.set_coordinates(4, 6)\n",
    "d = p1.get_distance(p2) \n",
    "p1.get_distance(10) "
   ]
  },
  {
   "cell_type": "code",
   "execution_count": 4,
   "metadata": {},
   "outputs": [
    {
     "name": "stdout",
     "output_type": "stream",
     "text": [
      "5.0\n"
     ]
    }
   ],
   "source": [
    "print(d)"
   ]
  }
 ],
 "metadata": {
  "kernelspec": {
   "display_name": "Python 3",
   "language": "python",
   "name": "python3"
  },
  "language_info": {
   "codemirror_mode": {
    "name": "ipython",
    "version": 3
   },
   "file_extension": ".py",
   "mimetype": "text/x-python",
   "name": "python",
   "nbconvert_exporter": "python",
   "pygments_lexer": "ipython3",
   "version": "3.8.5"
  }
 },
 "nbformat": 4,
 "nbformat_minor": 4
}
