{
 "cells": [
  {
   "cell_type": "code",
   "execution_count": null,
   "metadata": {},
   "outputs": [],
   "source": [
    "Создайте класс SoccerPlayer, у которого есть:\n",
    "\n",
    "1) конструктор __init__, принимающий 2 аргумента: name, surname. Также во время инициализации необходимо создать 2 атрибута экземпляра: goals и assists - общее количество голов и передач игрока, изначально оба значения должны быть 0\n",
    "2) метод score, который принимает количество голов, забитых игроком, по умолчанию данное значение равно единице. Метод должен увеличить общее количество забитых голов игрока на переданное значение;\n",
    "3) метод make_assist, который принимает количество передач, сделанных игроком за матч, по умолчанию данное значение равно единице. Метод должен увеличить общее количество сделанных передач игроком на переданное значение;\n",
    "4) метод statistics, который вывод на экран статистику игрока в виде:\n",
    "<Фамилия> <Имя> - голы: <goals>, передачи: <assists>\n",
    "\n",
    "leo = SoccerPlayer('Leo', 'Messi')\n",
    "leo.score(700)\n",
    "leo.make_assist(500)\n",
    "leo.statistics() # выводит \"Messi Leo - голы: 700, передачи: 500\"\n",
    "kokorin = SoccerPlayer('Alex', 'Kokorin')\n",
    "kokorin.score()\n",
    "kokorin.statistics() # выводит \"Kokorin Alex - голы: 1, передачи: 0\"\n"
   ]
  },
  {
   "cell_type": "code",
   "execution_count": 1,
   "metadata": {},
   "outputs": [],
   "source": [
    "class SoccerPlayer():\n",
    "    def __init__(self, name, surname):\n",
    "        self.name = name\n",
    "        self.surname = surname\n",
    "        self.goals = 0\n",
    "        self.assists = 0\n",
    "    def score(self, my_goals = 1):\n",
    "        self.goals += my_goals\n",
    "    def make_assist(self, my_assists = 1):\n",
    "        self.assists += my_assists\n",
    "    def statistics(self):\n",
    "        print(f\"{self.surname} {self.name} - голы: {self.goals}, передачи: {self.assists}\")"
   ]
  },
  {
   "cell_type": "code",
   "execution_count": 2,
   "metadata": {},
   "outputs": [],
   "source": [
    "leo = SoccerPlayer('Leo', 'Messi')\n",
    "leo.score(700)\n",
    "leo.make_assist(500)"
   ]
  },
  {
   "cell_type": "code",
   "execution_count": 3,
   "metadata": {},
   "outputs": [
    {
     "name": "stdout",
     "output_type": "stream",
     "text": [
      "Messi Leo - голы: 700, передачи: 500\n"
     ]
    }
   ],
   "source": [
    "leo.statistics() "
   ]
  },
  {
   "cell_type": "code",
   "execution_count": 4,
   "metadata": {},
   "outputs": [
    {
     "name": "stdout",
     "output_type": "stream",
     "text": [
      "Kokorin Alex - голы: 1, передачи: 0\n"
     ]
    }
   ],
   "source": [
    "kokorin = SoccerPlayer('Alex', 'Kokorin')\n",
    "kokorin.score()\n",
    "kokorin.statistics()"
   ]
  }
 ],
 "metadata": {
  "kernelspec": {
   "display_name": "Python 3",
   "language": "python",
   "name": "python3"
  },
  "language_info": {
   "codemirror_mode": {
    "name": "ipython",
    "version": 3
   },
   "file_extension": ".py",
   "mimetype": "text/x-python",
   "name": "python",
   "nbconvert_exporter": "python",
   "pygments_lexer": "ipython3",
   "version": "3.8.5"
  }
 },
 "nbformat": 4,
 "nbformat_minor": 4
}
