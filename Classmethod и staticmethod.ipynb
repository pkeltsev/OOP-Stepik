{
 "cells": [
  {
   "cell_type": "code",
   "execution_count": null,
   "metadata": {},
   "outputs": [],
   "source": [
    "   Создайте класс Robot, у которого есть:\n",
    "\n",
    "1) атрибут класса population. В этом атрибуте будет хранится общее количество роботов, изначально принимает значение 0;\n",
    "2) конструктор __init__, принимающий 1 аргумент name. Данный метод должен сохранять атрибут name и печатать сообщение вида \"Робот <name> был создан\". Помимо инициализации робота данный метод должен увеличивать популяцию роботов на единицу;\n",
    "3) метод destroy, должен уменьшать популяцию роботов на единицу и печатать сообщение вида \"Робот <name> был уничтожен\"\n",
    "4) метод say_hello, которой печатает сообщение вида \"Робот <name> приветствует тебя, особь человеческого рода\"\n",
    "5) метод класса  how_many, который печатает сообщение вида \"<population>, вот сколько нас еще осталось\"\n",
    "r2 = Robot(\"R2-D2\") # печатает \"Робот R2-D2 был создан\"\n",
    "r2.say_hello() # печатает \"Робот R2-D2 приветствует тебя, особь человеческого рода\"\n",
    "Robot.how_many() # печатает \"1, вот сколько нас еще осталось\"\n",
    "r2.destroy() # печатает \"Робот R2-D2 был уничтожен\""
   ]
  },
  {
   "cell_type": "code",
   "execution_count": 1,
   "metadata": {},
   "outputs": [],
   "source": [
    "class Robot:\n",
    "    population = 0\n",
    "    \n",
    "    def __init__(self, name):\n",
    "        self.name = name\n",
    "        print(f'Робот {self.name} был создан')\n",
    "        Robot.population += 1\n",
    "        \n",
    "    def destroy(self):\n",
    "        Robot.population -= 1\n",
    "        print(f'Робот {self.name} был уничтожен')\n",
    "        \n",
    "    def say_hello(self):\n",
    "        print(f'Робот {self.name} приветствует тебя, особь человеческого рода')\n",
    "        \n",
    "    @classmethod\n",
    "    def how_many(cls):\n",
    "        print(f'{cls.population}, вот сколько нас еще осталось')"
   ]
  },
  {
   "cell_type": "code",
   "execution_count": 2,
   "metadata": {},
   "outputs": [
    {
     "name": "stdout",
     "output_type": "stream",
     "text": [
      "Робот R2-D2 был создан\n"
     ]
    }
   ],
   "source": [
    "r2 = Robot(\"R2-D2\")"
   ]
  },
  {
   "cell_type": "code",
   "execution_count": 3,
   "metadata": {},
   "outputs": [
    {
     "name": "stdout",
     "output_type": "stream",
     "text": [
      "Робот R2-D2 приветствует тебя, особь человеческого рода\n"
     ]
    }
   ],
   "source": [
    "r2.say_hello() "
   ]
  },
  {
   "cell_type": "code",
   "execution_count": 4,
   "metadata": {},
   "outputs": [
    {
     "name": "stdout",
     "output_type": "stream",
     "text": [
      "1, вот сколько нас еще осталось\n"
     ]
    }
   ],
   "source": [
    "Robot.how_many()"
   ]
  },
  {
   "cell_type": "code",
   "execution_count": 5,
   "metadata": {},
   "outputs": [
    {
     "name": "stdout",
     "output_type": "stream",
     "text": [
      "Робот R2-D2 был уничтожен\n"
     ]
    }
   ],
   "source": [
    "r2.destroy()"
   ]
  }
 ],
 "metadata": {
  "kernelspec": {
   "display_name": "Python 3",
   "language": "python",
   "name": "python3"
  },
  "language_info": {
   "codemirror_mode": {
    "name": "ipython",
    "version": 3
   },
   "file_extension": ".py",
   "mimetype": "text/x-python",
   "name": "python",
   "nbconvert_exporter": "python",
   "pygments_lexer": "ipython3",
   "version": "3.8.5"
  }
 },
 "nbformat": 4,
 "nbformat_minor": 4
}
