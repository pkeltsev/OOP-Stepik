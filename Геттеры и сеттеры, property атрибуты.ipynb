{
 "cells": [
  {
   "cell_type": "code",
   "execution_count": null,
   "metadata": {},
   "outputs": [],
   "source": [
    "    Создайте класс UserMail, у которого есть:\n",
    "\n",
    "1) конструктор __init__, принимающий 2 аргумента: логин и почтовый адрес. Их необходимо сохранить в экземпляр как атрибуты login и __email (обратите внимание, защищенный атрибут)\n",
    "2) метод геттер get_email, которое возвращает защищенный атрибут __email ;\n",
    "3) метод сеттер set_email, которое принимает в виде строки новую почту. Метод должен проверять, что в новой почте есть только один символ @ и после нее есть точка. Если данные условия выполняются, новая почта сохраняется в атрибут __email, в противном случае выведите сообщение \"Ошибочная почта\";\n",
    "4) создайте свойство email, у которого геттером будет метод get_email, а сеттером - метод set_email\n",
    "k = UserMail('belosnezhka', 'prince@wait.you')\n",
    "print(k.email)  # prince@wait.you\n",
    "k.email = [1, 2, 3] # Ошибочная почта\n",
    "k.email = 'prince@still@.wait'  # Ошибочная почта\n",
    "k.email = 'prince@still.wait'\n",
    "print(k.email)  # prince@still.wait"
   ]
  },
  {
   "cell_type": "code",
   "execution_count": 1,
   "metadata": {},
   "outputs": [],
   "source": [
    "class UserMail:\n",
    "\n",
    "    def __init__(self, login, email):\n",
    "        self.login = login\n",
    "        self.__email = email\n",
    "\n",
    "    def get_email(self):\n",
    "        return self.__email\n",
    "\n",
    "    def set_email(self, value):\n",
    "        if isinstance(value, str) and value.count('@') == 1 and value.count('.') == 1:\n",
    "            self.__email = value\n",
    "        else:\n",
    "            print('Ошибочная почта')\n",
    "        \n",
    "    email = property(fget = get_email, fset = set_email)"
   ]
  },
  {
   "cell_type": "code",
   "execution_count": 2,
   "metadata": {},
   "outputs": [
    {
     "name": "stdout",
     "output_type": "stream",
     "text": [
      "prince@wait.you\n"
     ]
    }
   ],
   "source": [
    "k = UserMail('belosnezhka', 'prince@wait.you')\n",
    "print(k.email)"
   ]
  },
  {
   "cell_type": "code",
   "execution_count": 3,
   "metadata": {},
   "outputs": [
    {
     "name": "stdout",
     "output_type": "stream",
     "text": [
      "Ошибочная почта\n"
     ]
    }
   ],
   "source": [
    "k.email = [1, 2, 3]"
   ]
  },
  {
   "cell_type": "code",
   "execution_count": 4,
   "metadata": {},
   "outputs": [
    {
     "name": "stdout",
     "output_type": "stream",
     "text": [
      "Ошибочная почта\n"
     ]
    }
   ],
   "source": [
    "k.email = 'prince@still@.wait'"
   ]
  },
  {
   "cell_type": "code",
   "execution_count": 5,
   "metadata": {},
   "outputs": [
    {
     "name": "stdout",
     "output_type": "stream",
     "text": [
      "prince@still.wait\n"
     ]
    }
   ],
   "source": [
    "k.email = 'prince@still.wait'\n",
    "print(k.email)"
   ]
  }
 ],
 "metadata": {
  "kernelspec": {
   "display_name": "Python 3",
   "language": "python",
   "name": "python3"
  },
  "language_info": {
   "codemirror_mode": {
    "name": "ipython",
    "version": 3
   },
   "file_extension": ".py",
   "mimetype": "text/x-python",
   "name": "python",
   "nbconvert_exporter": "python",
   "pygments_lexer": "ipython3",
   "version": "3.8.5"
  }
 },
 "nbformat": 4,
 "nbformat_minor": 4
}
