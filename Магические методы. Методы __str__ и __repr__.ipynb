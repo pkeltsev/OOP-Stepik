{
 "cells": [
  {
   "cell_type": "code",
   "execution_count": null,
   "metadata": {},
   "outputs": [],
   "source": [
    "Создайте класс Vector, который хранит в себе вектор целых чисел.  У класса Vector есть:\n",
    "\n",
    "1) конструктор __init__, принимающий произвольное количество аргументов. Среди всех переданных аргументов необходимо оставить только целые числа и сохранить их в атрибут values в виде списка;\n",
    "2) переопределить метод __str__ так, чтобы экземпляр класса Vector выводился следующим образом: \n",
    "- \"Вектор(<value1>, <value2>, <value3>, ...)\", если вектор не пустой. При этом значения должны быть упорядочены по возрастанию (будьте аккуратнее с пробелами, они стоят только после запятых, см. пример ниже);\n",
    "- \"Пустой вектор\", если наш вектор не хранит в себе значения\n",
    " \n",
    "\n",
    "v1 = Vector(1,2,3)\n",
    "print(v1) # печатает \"Вектор(1, 2, 3)\"\n",
    "v2 = Vector()\n",
    "print(v2) # печатает \"Пустой вектор\""
   ]
  },
  {
   "cell_type": "code",
   "execution_count": 1,
   "metadata": {},
   "outputs": [],
   "source": [
    "class Vector:\n",
    "    def __init__(self, *args):\n",
    "        self.values = []\n",
    "        for n in args:\n",
    "            if isinstance(n, int):\n",
    "                self.values.append(n)\n",
    "\n",
    "    def __str__(self):\n",
    "        if self.values:\n",
    "            return f'Вектор{tuple(sorted(self.values))}'\n",
    "        else:\n",
    "            return f'Пустой вектор'"
   ]
  },
  {
   "cell_type": "code",
   "execution_count": 2,
   "metadata": {},
   "outputs": [
    {
     "name": "stdout",
     "output_type": "stream",
     "text": [
      "Вектор(1, 2, 3)\n"
     ]
    }
   ],
   "source": [
    "v1 = Vector(1,2,3)\n",
    "print(v1)"
   ]
  },
  {
   "cell_type": "code",
   "execution_count": 3,
   "metadata": {},
   "outputs": [
    {
     "name": "stdout",
     "output_type": "stream",
     "text": [
      "Пустой вектор\n"
     ]
    }
   ],
   "source": [
    "v2 = Vector()\n",
    "print(v2)"
   ]
  }
 ],
 "metadata": {
  "kernelspec": {
   "display_name": "Python 3",
   "language": "python",
   "name": "python3"
  },
  "language_info": {
   "codemirror_mode": {
    "name": "ipython",
    "version": 3
   },
   "file_extension": ".py",
   "mimetype": "text/x-python",
   "name": "python",
   "nbconvert_exporter": "python",
   "pygments_lexer": "ipython3",
   "version": "3.8.5"
  }
 },
 "nbformat": 4,
 "nbformat_minor": 4
}
